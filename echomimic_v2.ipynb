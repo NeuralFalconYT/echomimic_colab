{
 "cells": [
  {
   "cell_type": "markdown",
   "id": "d7964430",
   "metadata": {},
   "source": [
    "https://colab.research.google.com/ required cloab pro <br>\n",
    "https://lightning.ai/ Free for Students, researchers"
   ]
  },
  {
   "cell_type": "markdown",
   "id": "ee227391-75b1-4974-ad91-473d183f5791",
   "metadata": {},
   "source": [
    "## Install echomimic_v2 and restart kernel"
   ]
  },
  {
   "cell_type": "code",
   "execution_count": 1,
   "id": "d92ecce2-7614-4af0-bc5c-dd38d8ec8ce0",
   "metadata": {},
   "outputs": [
    {
     "ename": "",
     "evalue": "",
     "output_type": "error",
     "traceback": [
      "\u001b[1;31mThe Kernel crashed while executing code in the current cell or a previous cell. \n",
      "\u001b[1;31mPlease review the code in the cell(s) to identify a possible cause of the failure. \n",
      "\u001b[1;31mClick <a href='https://aka.ms/vscodeJupyterKernelCrash'>here</a> for more info. \n",
      "\u001b[1;31mView Jupyter <a href='command:jupyter.viewOutput'>log</a> for further details."
     ]
    }
   ],
   "source": [
    "# base_path=\"/content\" #for google colab\n",
    "base_path=\"/teamspace/studios/this_studio\" #lightning.ai \n",
    "# base_path=\".\" #for local\n",
    "\n",
    "!rm -rf $base_path/echomimic_v2 #comment this line if your are runnin it locally\n",
    "%cd $base_path\n",
    "!git clone https://github.com/antgroup/echomimic_v2.git\n",
    "%cd $base_path/echomimic_v2\n",
    "!wget https://raw.githubusercontent.com/NeuralFalconYT/echomimic_colab/refs/heads/main/download_models.py\n",
    "!wget https://raw.githubusercontent.com/NeuralFalconYT/echomimic_colab/refs/heads/main/server.py\n",
    "#colab \n",
    "# !pip install omegaconf diffusers==0.24.0 einops huggingface-hub==0.23.2 ffmpeg imageio-ffmpeg ffmpeg-python av decord transformers matplotlib opencv-python moviepy==1.0.3 accelerate\n",
    "\n",
    "#for others\n",
    "!pip install pip -U\n",
    "!pip uninstall -y torch torchvision torchaudio \n",
    "!pip install torch==2.5.1 torchvision==0.20.1 torchaudio==2.5.1 xformers==0.0.28.post3 --index-url https://download.pytorch.org/whl/cu124\n",
    "!pip install torchao --index-url https://download.pytorch.org/whl/nightly/cu124\n",
    "!pip install -r requirements.txt\n",
    "!pip install --no-deps facenet_pytorch==2.6.0\n",
    "!pip install huggingface-hub>=0.26.2\n",
    "!pip install click>=8.1.7\n",
    "!python download_models.py\n",
    "# %env FFMPEG_PATH=$base_path/echomimic_v2/ffmpeg\n",
    "from IPython.display import clear_output\n",
    "clear_output()\n",
    "import time\n",
    "time.sleep(5)\n",
    "import os\n",
    "os.kill(os.getpid(), 9)"
   ]
  },
  {
   "cell_type": "markdown",
   "id": "32df5d4c",
   "metadata": {},
   "source": [
    "# After Restart kernerl Run from here"
   ]
  },
  {
   "cell_type": "code",
   "execution_count": 1,
   "id": "d5bbd4b0-39e1-4cd9-8488-a278e2777bb9",
   "metadata": {},
   "outputs": [
    {
     "name": "stdout",
     "output_type": "stream",
     "text": [
      "env: FFMPEG_PATH=/teamspace/studios/this_studio/echomimic_v2/ffmpeg\n"
     ]
    }
   ],
   "source": [
    "# base_path=\"/content\" #for google colab\n",
    "base_path=\"/teamspace/studios/this_studio\" #lightning.ai \n",
    "# base_path=\".\" #for local\n",
    "%env FFMPEG_PATH=$base_path/echomimic_v2/ffmpeg"
   ]
  },
  {
   "cell_type": "code",
   "execution_count": null,
   "id": "53ff3905",
   "metadata": {},
   "outputs": [],
   "source": [
    "## For terminal use\n",
    "# %cd $base_path/echomimic_v2\n",
    "# %env FFMPEG_PATH=$base_path/echomimic_v2/ffmpeg\n",
    "# !python infer.py --config='./configs/prompts/infer.yaml' #--audio_dir='' --audio_name='content/optimus.wav' --ref_images_dir='' --refimg_name='content/gandalf.png'"
   ]
  },
  {
   "cell_type": "code",
   "execution_count": null,
   "id": "bbeb3d3c-926a-4981-a6c7-c5ff2c9d876e",
   "metadata": {},
   "outputs": [],
   "source": [
    "%cd $base_path/echomimic_v2\n",
    "!python server.py --debug --share\n",
    "# !python server.py --share"
   ]
  }
 ],
 "metadata": {
  "kernelspec": {
   "display_name": "Python 3",
   "language": "python",
   "name": "python3"
  },
  "language_info": {
   "codemirror_mode": {
    "name": "ipython",
    "version": 3
   },
   "file_extension": ".py",
   "mimetype": "text/x-python",
   "name": "python",
   "nbconvert_exporter": "python",
   "pygments_lexer": "ipython3",
   "version": "3.10.10"
  }
 },
 "nbformat": 4,
 "nbformat_minor": 5
}
